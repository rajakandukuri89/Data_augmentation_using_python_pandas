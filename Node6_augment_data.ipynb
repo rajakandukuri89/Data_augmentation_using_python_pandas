{
  "nbformat": 4,
  "nbformat_minor": 0,
  "metadata": {
    "colab": {
      "name": "Node6_augment_data.ipynb",
      "provenance": [],
      "collapsed_sections": [],
      "authorship_tag": "ABX9TyNBV2uOXv9XNtkOugLs2IKT",
      "include_colab_link": true
    },
    "kernelspec": {
      "name": "python3",
      "display_name": "Python 3"
    },
    "language_info": {
      "name": "python"
    }
  },
  "cells": [
    {
      "cell_type": "markdown",
      "metadata": {
        "id": "view-in-github",
        "colab_type": "text"
      },
      "source": [
        "<a href=\"https://colab.research.google.com/github/rajakandukuri89/Data_augmentation_using_python_pandas/blob/main/Node6_augment_data.ipynb\" target=\"_parent\"><img src=\"https://colab.research.google.com/assets/colab-badge.svg\" alt=\"Open In Colab\"/></a>"
      ]
    },
    {
      "cell_type": "code",
      "execution_count": 2,
      "metadata": {
        "id": "qp9-55eh_646"
      },
      "outputs": [],
      "source": [
        "import pandas as pd\n",
        "import numpy as np\n",
        "import itertools\n",
        "import csv\n",
        "from google.colab import files\n",
        "\n",
        "#files.upload()"
      ]
    },
    {
      "cell_type": "code",
      "source": [
        "\n",
        "#creating a data frame and reading the data from csv\n",
        "df = pd.read_csv('Data_for_UCI_named_node6.csv')\n",
        "\n",
        "#creating array for tau,power and price elasticity consumer nodes\n",
        "arr1_tau=df[df.columns[1:6]].values.tolist()\n",
        "arr1_pow=df[df.columns[7:12]].values.tolist()\n",
        "arr1_el=df[df.columns[13:18]].values.tolist()\n",
        "\n",
        "#function that creates augment data\n",
        "def ToCreateAug(arr):\n",
        "  appended_data = []\n",
        "  for i in range(0,len(arr)):\n",
        "    appended_data.append(list(itertools.permutations(arr[i])))\n",
        "  appended_data1 = [j for i in appended_data for j in i]\n",
        "  return appended_data1\n",
        "\n",
        "#generating permutations for tau, power and price elasticity using the function.\n",
        "data_tau=ToCreateAug(arr1_tau)\n",
        "df_tau = pd.DataFrame(data_tau, columns = ['tau2', 'tau3','tau4', 'tau5','tau6'])\n",
        "\n",
        "data_pow=ToCreateAug(arr1_pow)\n",
        "df_pow = pd.DataFrame(data_pow, columns = ['p2', 'p3','p4', 'p5','p6'])\n",
        "\n",
        "data_el=ToCreateAug(arr1_el)\n",
        "df_el = pd.DataFrame(data_el, columns = ['g2', 'g3','g4', 'g5','g6'])\n",
        "\n",
        "#creating Base data for augmented data 6 node (i.e., 120 is factorial of 5 since the consumer nodes are 5)\n",
        "new_df_node6_aug = pd.DataFrame(np.repeat(df.values, 120, axis=0))\n",
        "new_df_node6_aug.columns = df.columns\n",
        "new_df_node6_aug_backup=new_df_node6_aug\n",
        "\n",
        "#Now changing the data points of tau2 to tau6, p2 to p6 and g2 to g6 with permutedata\n",
        "new_df_node6_aug[['tau2', 'tau3', 'tau4', 'tau5', 'tau6']] = df_tau[['tau2', 'tau3', 'tau4', 'tau5', 'tau6']].values\n",
        "new_df_node6_aug[['p2', 'p3', 'p4', 'p5', 'p6']] = df_pow[['p2', 'p3', 'p4', 'p5', 'p6']].values\n",
        "new_df_node6_aug[['g2', 'g3', 'g4', 'g5', 'g6']] = df_el[['g2', 'g3', 'g4', 'g5', 'g6']].values\n",
        "\n",
        "new_df_node6_aug.to_csv(\"smart_grid_stability_augmented_node6.csv\", index = False)\n",
        "files.download(\"smart_grid_stability_augmented_node6.csv\")"
      ],
      "metadata": {
        "colab": {
          "base_uri": "https://localhost:8080/",
          "height": 35
        },
        "id": "Rxkxeh24AN4q",
        "outputId": "b1352481-9437-4300-853c-9e507086b751"
      },
      "execution_count": null,
      "outputs": [
        {
          "output_type": "display_data",
          "data": {
            "application/javascript": [
              "\n",
              "    async function download(id, filename, size) {\n",
              "      if (!google.colab.kernel.accessAllowed) {\n",
              "        return;\n",
              "      }\n",
              "      const div = document.createElement('div');\n",
              "      const label = document.createElement('label');\n",
              "      label.textContent = `Downloading \"${filename}\": `;\n",
              "      div.appendChild(label);\n",
              "      const progress = document.createElement('progress');\n",
              "      progress.max = size;\n",
              "      div.appendChild(progress);\n",
              "      document.body.appendChild(div);\n",
              "\n",
              "      const buffers = [];\n",
              "      let downloaded = 0;\n",
              "\n",
              "      const channel = await google.colab.kernel.comms.open(id);\n",
              "      // Send a message to notify the kernel that we're ready.\n",
              "      channel.send({})\n",
              "\n",
              "      for await (const message of channel.messages) {\n",
              "        // Send a message to notify the kernel that we're ready.\n",
              "        channel.send({})\n",
              "        if (message.buffers) {\n",
              "          for (const buffer of message.buffers) {\n",
              "            buffers.push(buffer);\n",
              "            downloaded += buffer.byteLength;\n",
              "            progress.value = downloaded;\n",
              "          }\n",
              "        }\n",
              "      }\n",
              "      const blob = new Blob(buffers, {type: 'application/binary'});\n",
              "      const a = document.createElement('a');\n",
              "      a.href = window.URL.createObjectURL(blob);\n",
              "      a.download = filename;\n",
              "      div.appendChild(a);\n",
              "      a.click();\n",
              "      div.remove();\n",
              "    }\n",
              "  "
            ],
            "text/plain": [
              "<IPython.core.display.Javascript object>"
            ]
          },
          "metadata": {}
        },
        {
          "output_type": "display_data",
          "data": {
            "application/javascript": [
              "download(\"download_2f42e629-e14c-4640-a87f-44192022d34f\", \"smart_grid_stability_augmented_node.csv\", 413805317)"
            ],
            "text/plain": [
              "<IPython.core.display.Javascript object>"
            ]
          },
          "metadata": {}
        }
      ]
    },
    {
      "cell_type": "code",
      "source": [
        ""
      ],
      "metadata": {
        "id": "oRNOfVuLNiMA"
      },
      "execution_count": null,
      "outputs": []
    }
  ]
}